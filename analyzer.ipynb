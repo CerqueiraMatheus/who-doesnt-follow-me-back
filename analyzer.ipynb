{
 "cells": [
  {
   "source": [
    "# Who doesn't follow me back?\n",
    "An Instagram analyzer using the instaloader library."
   ],
   "cell_type": "markdown",
   "metadata": {}
  },
  {
   "cell_type": "code",
   "execution_count": 1,
   "metadata": {},
   "outputs": [],
   "source": [
    "!pip3 install instaloader\n",
    "import instaloader"
   ]
  },
  {
   "cell_type": "code",
   "execution_count": 2,
   "metadata": {},
   "outputs": [],
   "source": [
    "username = \"\" # Username to login\n",
    "password = \"\" # Password to login\n",
    "profile = \"\" # Profile username to search"
   ]
  },
  {
   "cell_type": "code",
   "execution_count": 7,
   "metadata": {},
   "outputs": [],
   "source": [
    "# Instance of instaloader\n",
    "instaloader.Instaloader().login(username, password)"
   ]
  },
  {
   "cell_type": "code",
   "execution_count": 26,
   "metadata": {},
   "outputs": [],
   "source": [
    "# Instance of profile\n",
    "profile = instaloader.Profile.from_username(loader.context, profile)"
   ]
  },
  {
   "cell_type": "code",
   "execution_count": 27,
   "metadata": {},
   "outputs": [],
   "source": [
    "# Get the followees profiles usernames\n",
    "followees = profile.get_followees()\n",
    "followees_username = []\n",
    "for followee in followees:\n",
    "    followees_usernames.append(followee.username)"
   ]
  },
  {
   "cell_type": "code",
   "execution_count": null,
   "metadata": {},
   "outputs": [],
   "source": [
    "# Get the followers profiles usernames\n",
    "followers = profile.get_followers()\n",
    "followers_username = []\n",
    "for follower in followers:\n",
    "    followers_usernames.append(follower.username)"
   ]
  },
  {
   "cell_type": "code",
   "execution_count": 31,
   "metadata": {},
   "outputs": [],
   "source": [
    "# Track the unmatches between followees and followers\n",
    "unmatches = []\n",
    "for follower_username in followers_usernames:\n",
    "    if (follower_username not in followees_usernames):\n",
    "        unmatch.append(follower_username)"
   ]
  },
  {
   "cell_type": "code",
   "execution_count": 25,
   "metadata": {},
   "outputs": [],
   "source": [
    "# Write the unmatches to the output file\n",
    "with open('output.txt', 'w') as file:\n",
    "    for unmatch in unmatches:\n",
    "        f.write(\"%s\\n\" % un)"
   ]
  }
 ],
 "metadata": {
  "kernelspec": {
   "name": "python385jvsc74a57bd0a5653b54fe6cf6e2fae9bcefb5bfcf782e994099dd1c9a4571168f76f9b0455a",
   "display_name": "Python 3.8.5 64-bit ('base': conda)"
  },
  "language_info": {
   "codemirror_mode": {
    "name": "ipython",
    "version": 3
   },
   "file_extension": ".py",
   "mimetype": "text/x-python",
   "name": "python",
   "nbconvert_exporter": "python",
   "pygments_lexer": "ipython3",
   "version": "3.8.5"
  }
 },
 "nbformat": 4,
 "nbformat_minor": 4
}